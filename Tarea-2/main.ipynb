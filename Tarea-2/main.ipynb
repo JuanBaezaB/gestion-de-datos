{
 "cells": [
  {
   "cell_type": "code",
   "execution_count": 1,
   "id": "069185bc",
   "metadata": {},
   "outputs": [],
   "source": [
    "import pandas as pd \n",
    "import numpy as np \n"
   ]
  },
  {
   "cell_type": "markdown",
   "id": "6ca56eb6",
   "metadata": {},
   "source": [
    "1. Genere un script que pregunte al usuario por montos de ventas entre un rango de años determinado\n",
    "para luego mostrar por pantalla una Serie con los datos de las ventas indexadas por año, tanto antes\n",
    "como después de aplicarles un descuento de 10% (ventas con y sin descuento).\n"
   ]
  },
  {
   "cell_type": "code",
   "execution_count": 36,
   "id": "cd769259",
   "metadata": {},
   "outputs": [
    {
     "name": "stdout",
     "output_type": "stream",
     "text": [
      "      año   valor  dcto  valor_dcto\n",
      "0  2020.0  1000.0   0.2       800.0\n",
      "1  2021.0  2000.0   0.2      1600.0\n",
      "2  2022.0  3000.0   0.2      2400.0\n",
      "3  2023.0  4000.0   0.2      3200.0\n",
      "Ingrese rango de años a visualizar\n",
      "Año comienzo:\n"
     ]
    },
    {
     "ename": "KeyboardInterrupt",
     "evalue": "Interrupted by user",
     "output_type": "error",
     "traceback": [
      "\u001b[1;31m---------------------------------------------------------------------------\u001b[0m",
      "\u001b[1;31mKeyboardInterrupt\u001b[0m                         Traceback (most recent call last)",
      "\u001b[1;32m~\\AppData\\Local\\Temp\\ipykernel_6408\\3733865744.py\u001b[0m in \u001b[0;36m<cell line: 11>\u001b[1;34m()\u001b[0m\n\u001b[0;32m     10\u001b[0m \u001b[0mprint\u001b[0m\u001b[1;33m(\u001b[0m\u001b[1;34m\"Año comienzo:\"\u001b[0m\u001b[1;33m)\u001b[0m\u001b[1;33m\u001b[0m\u001b[1;33m\u001b[0m\u001b[0m\n\u001b[0;32m     11\u001b[0m \u001b[1;32mwhile\u001b[0m\u001b[1;33m(\u001b[0m\u001b[0mdata\u001b[0m\u001b[1;33m[\u001b[0m\u001b[1;34m'año'\u001b[0m\u001b[1;33m]\u001b[0m\u001b[1;33m.\u001b[0m\u001b[0mmin\u001b[0m\u001b[1;33m(\u001b[0m\u001b[1;33m)\u001b[0m \u001b[1;33m>\u001b[0m \u001b[0mstart_date\u001b[0m \u001b[1;32mor\u001b[0m \u001b[0mdata\u001b[0m\u001b[1;33m[\u001b[0m\u001b[1;34m'año'\u001b[0m\u001b[1;33m]\u001b[0m\u001b[1;33m.\u001b[0m\u001b[0mmax\u001b[0m\u001b[1;33m(\u001b[0m\u001b[1;33m)\u001b[0m \u001b[1;33m<\u001b[0m \u001b[0mstart_date\u001b[0m\u001b[1;33m)\u001b[0m\u001b[1;33m:\u001b[0m\u001b[1;33m\u001b[0m\u001b[1;33m\u001b[0m\u001b[0m\n\u001b[1;32m---> 12\u001b[1;33m     \u001b[0mstart_date\u001b[0m \u001b[1;33m=\u001b[0m \u001b[0mint\u001b[0m\u001b[1;33m(\u001b[0m\u001b[0minput\u001b[0m\u001b[1;33m(\u001b[0m\u001b[1;33m)\u001b[0m\u001b[1;33m)\u001b[0m\u001b[1;33m\u001b[0m\u001b[1;33m\u001b[0m\u001b[0m\n\u001b[0m\u001b[0;32m     13\u001b[0m \u001b[1;33m\u001b[0m\u001b[0m\n\u001b[0;32m     14\u001b[0m \u001b[0mprint\u001b[0m\u001b[1;33m(\u001b[0m\u001b[1;34m\"Año termino:\"\u001b[0m\u001b[1;33m)\u001b[0m\u001b[1;33m\u001b[0m\u001b[1;33m\u001b[0m\u001b[0m\n",
      "\u001b[1;32mC:\\Program Files\\ArcGIS\\Pro\\bin\\Python\\envs\\arcgispro-py3\\lib\\site-packages\\ipykernel\\kernelbase.py\u001b[0m in \u001b[0;36mraw_input\u001b[1;34m(self, prompt)\u001b[0m\n\u001b[0;32m   1175\u001b[0m                 \u001b[1;34m\"raw_input was called, but this frontend does not support input requests.\"\u001b[0m\u001b[1;33m\u001b[0m\u001b[1;33m\u001b[0m\u001b[0m\n\u001b[0;32m   1176\u001b[0m             )\n\u001b[1;32m-> 1177\u001b[1;33m         return self._input_request(\n\u001b[0m\u001b[0;32m   1178\u001b[0m             \u001b[0mstr\u001b[0m\u001b[1;33m(\u001b[0m\u001b[0mprompt\u001b[0m\u001b[1;33m)\u001b[0m\u001b[1;33m,\u001b[0m\u001b[1;33m\u001b[0m\u001b[1;33m\u001b[0m\u001b[0m\n\u001b[0;32m   1179\u001b[0m             \u001b[0mself\u001b[0m\u001b[1;33m.\u001b[0m\u001b[0m_parent_ident\u001b[0m\u001b[1;33m[\u001b[0m\u001b[1;34m\"shell\"\u001b[0m\u001b[1;33m]\u001b[0m\u001b[1;33m,\u001b[0m\u001b[1;33m\u001b[0m\u001b[1;33m\u001b[0m\u001b[0m\n",
      "\u001b[1;32mC:\\Program Files\\ArcGIS\\Pro\\bin\\Python\\envs\\arcgispro-py3\\lib\\site-packages\\ipykernel\\kernelbase.py\u001b[0m in \u001b[0;36m_input_request\u001b[1;34m(self, prompt, ident, parent, password)\u001b[0m\n\u001b[0;32m   1217\u001b[0m             \u001b[1;32mexcept\u001b[0m \u001b[0mKeyboardInterrupt\u001b[0m\u001b[1;33m:\u001b[0m\u001b[1;33m\u001b[0m\u001b[1;33m\u001b[0m\u001b[0m\n\u001b[0;32m   1218\u001b[0m                 \u001b[1;31m# re-raise KeyboardInterrupt, to truncate traceback\u001b[0m\u001b[1;33m\u001b[0m\u001b[1;33m\u001b[0m\u001b[0m\n\u001b[1;32m-> 1219\u001b[1;33m                 \u001b[1;32mraise\u001b[0m \u001b[0mKeyboardInterrupt\u001b[0m\u001b[1;33m(\u001b[0m\u001b[1;34m\"Interrupted by user\"\u001b[0m\u001b[1;33m)\u001b[0m \u001b[1;32mfrom\u001b[0m \u001b[1;32mNone\u001b[0m\u001b[1;33m\u001b[0m\u001b[1;33m\u001b[0m\u001b[0m\n\u001b[0m\u001b[0;32m   1220\u001b[0m             \u001b[1;32mexcept\u001b[0m \u001b[0mException\u001b[0m\u001b[1;33m:\u001b[0m\u001b[1;33m\u001b[0m\u001b[1;33m\u001b[0m\u001b[0m\n\u001b[0;32m   1221\u001b[0m                 \u001b[0mself\u001b[0m\u001b[1;33m.\u001b[0m\u001b[0mlog\u001b[0m\u001b[1;33m.\u001b[0m\u001b[0mwarning\u001b[0m\u001b[1;33m(\u001b[0m\u001b[1;34m\"Invalid Message:\"\u001b[0m\u001b[1;33m,\u001b[0m \u001b[0mexc_info\u001b[0m\u001b[1;33m=\u001b[0m\u001b[1;32mTrue\u001b[0m\u001b[1;33m)\u001b[0m\u001b[1;33m\u001b[0m\u001b[1;33m\u001b[0m\u001b[0m\n",
      "\u001b[1;31mKeyboardInterrupt\u001b[0m: Interrupted by user"
     ]
    }
   ],
   "source": [
    "\n",
    "\n",
    "ventas_por_año  = np.array([[2020, 1000, 0.2],[2021, 2000, 0.2],[2022, 3000, 0.2],[2023, 4000, 0.2]])\n",
    "data = pd.DataFrame(ventas_por_año, columns = ['año','valor','dcto'])\n",
    "data['valor_dcto'] = data['valor'] - data['valor']*data['dcto']\n",
    "\n",
    "print(data)\n",
    "start_date = 0\n",
    "end_date = 0\n",
    "\n",
    "print(\"Ingrese rango de años a visualizar\")\n",
    "print(\"Año comienzo:\")\n",
    "while(data['año'].min() > start_date or data['año'].max() < start_date):\n",
    "    start_date = int(input())\n",
    "    \n",
    "print(\"Año termino:\")\n",
    "while(data['año'].max() < end_date or data['año'].min() > end_date):\n",
    "    end_date = int(input())\n",
    "\n",
    "\n",
    "filtered_data=data.loc[ (data['año'] >= start_date) & (data['año'] <= end_date) ]\n",
    "\n",
    "print(filtered_data)"
   ]
  },
  {
   "cell_type": "markdown",
   "id": "26a23e92",
   "metadata": {},
   "source": [
    "2. Genere un script que reciba un Diccionario de datos(generado por ud.) con las notas de un certamen\n",
    "de 5 alumnos diferentes, luego devuelva una Serie con la nota mínima, la máxima y la desviación\n",
    "típica."
   ]
  },
  {
   "cell_type": "code",
   "execution_count": null,
   "id": "6759cec6",
   "metadata": {},
   "outputs": [],
   "source": [
    "data = pd.Series([2.3,6.5,6.1,3.5,5.7], [\"Juan\",\"Jenifer\",\"David\",\"Pablo\",\"Armando\"])\n",
    "print(data)\n",
    "print()\n",
    "result = pd.Series([data.min(), data.max(), data.std()], ['Minimo', 'Maximo','desviación típica'])\n",
    "\n",
    "print(result)\n"
   ]
  },
  {
   "cell_type": "markdown",
   "id": "82abed49",
   "metadata": {},
   "source": [
    "3. Genere una función que reciba por parámetro un Diccionario de datos con las notas de 5 alumnos\n",
    "en un certamen y que devuelva una Serie con las notas de los alumnos aprobados ordenadas de\n",
    "mayor a menor."
   ]
  },
  {
   "cell_type": "code",
   "execution_count": null,
   "id": "b148bf18",
   "metadata": {},
   "outputs": [],
   "source": [
    "data = data.loc[(data>4)]\n",
    "print(\"Alumnos aprobados odenados de mayor a menor\")\n",
    "print(data.sort_values(ascending=False))"
   ]
  },
  {
   "cell_type": "markdown",
   "id": "8af09490",
   "metadata": {},
   "source": [
    "4. Genere un script que muestre por pantalla un DataFrame con los datos de la siguiente tabla:"
   ]
  },
  {
   "cell_type": "code",
   "execution_count": 50,
   "id": "d44128b0",
   "metadata": {},
   "outputs": [
    {
     "name": "stdout",
     "output_type": "stream",
     "text": [
      "       Mes Ventas Gastos\n",
      "0    Enero  30500  22000\n",
      "1  Febrero  35600  23400\n",
      "2    Marzo  28300  18100\n",
      "3    Abril  33900  20700\n"
     ]
    }
   ],
   "source": [
    "datos = np.array([[\"Enero\", 30500, 22000],[\"Febrero\",35600,23400],[\"Marzo\",28300,18100],[\"Abril\",33900,20700]])\n",
    "#datos = np.array([[1, 30500, 22000],[2, 35600, 23400],[3, 28300, 18100],[4, 33900, 20700]])\n",
    "data = pd.DataFrame(datos, columns = ['Mes','Ventas','Gastos'])\n",
    "print(data)"
   ]
  },
  {
   "cell_type": "markdown",
   "id": "813b35bd",
   "metadata": {},
   "source": [
    "5. Genere un script que reciba el DataFrame del ejercicio anterior y pregunte al usuario un intervalo de\n",
    "meses (desde mes x, hasta mes y) en los cuales se hará un balance total (ventas – gastos)."
   ]
  },
  {
   "cell_type": "code",
   "execution_count": null,
   "id": "995f8eb2",
   "metadata": {},
   "outputs": [
    {
     "name": "stdout",
     "output_type": "stream",
     "text": [
      "<class 'pandas.core.frame.DataFrame'>\n",
      "RangeIndex: 4 entries, 0 to 3\n",
      "Data columns (total 3 columns):\n",
      " #   Column  Non-Null Count  Dtype \n",
      "---  ------  --------------  ----- \n",
      " 0   Mes     4 non-null      object\n",
      " 1   Ventas  4 non-null      object\n",
      " 2   Gastos  4 non-null      object\n",
      "dtypes: object(3)\n",
      "memory usage: 224.0+ bytes\n",
      "None\n",
      "<class 'pandas.core.frame.DataFrame'>\n",
      "RangeIndex: 4 entries, 0 to 3\n",
      "Data columns (total 3 columns):\n",
      " #   Column  Non-Null Count  Dtype \n",
      "---  ------  --------------  ----- \n",
      " 0   Mes     4 non-null      int64 \n",
      " 1   Ventas  4 non-null      object\n",
      " 2   Gastos  4 non-null      object\n",
      "dtypes: int64(1), object(2)\n",
      "memory usage: 224.0+ bytes\n",
      "None\n",
      "Ingrese rango meses a visualizar\n",
      "Mes comienzo:\n"
     ]
    }
   ],
   "source": [
    "\n",
    "\n",
    "print(data.info())\n",
    "data.Mes.replace(['Enero','Febrero','Marzo','Abril'], [1,2,3,4], inplace=True)\n",
    "print(data.info())\n",
    "\n",
    "\n",
    "start_month = 0\n",
    "end_month = 0\n",
    "\n",
    "print(\"Ingrese rango meses a visualizar\")\n",
    "print(\"Mes comienzo:\")\n",
    "while(data['Mes'].min() > start_month or data['Mes'].max() < start_month):\n",
    "    start_month = int(input())\n",
    "    \n",
    "print(\"Mes termino:\")\n",
    "while(data['Mes'].max() < end_month or data['Mes'].min() > end_month):\n",
    "    end_month = int(input())\n",
    "\n",
    "filtered_data=data.loc[(data['Mes'] >= start_month) & (data['Mes'] <= end_month) ]\n",
    "print(filtered_data)\n"
   ]
  },
  {
   "cell_type": "code",
   "execution_count": null,
   "id": "487fb894",
   "metadata": {},
   "outputs": [],
   "source": []
  },
  {
   "cell_type": "code",
   "execution_count": null,
   "id": "d6d9b9d4",
   "metadata": {},
   "outputs": [],
   "source": []
  }
 ],
 "metadata": {
  "kernelspec": {
   "display_name": "Python 3 (ipykernel)",
   "language": "python",
   "name": "python3"
  },
  "language_info": {
   "codemirror_mode": {
    "name": "ipython",
    "version": 3
   },
   "file_extension": ".py",
   "mimetype": "text/x-python",
   "name": "python",
   "nbconvert_exporter": "python",
   "pygments_lexer": "ipython3",
   "version": "3.9.16"
  }
 },
 "nbformat": 4,
 "nbformat_minor": 5
}
