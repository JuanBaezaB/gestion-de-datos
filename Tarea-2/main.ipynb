{
 "cells": [
  {
   "cell_type": "code",
   "execution_count": 105,
   "id": "069185bc",
   "metadata": {},
   "outputs": [],
   "source": [
    "import pandas as pd \n",
    "import numpy as np \n"
   ]
  },
  {
   "cell_type": "markdown",
   "id": "6ca56eb6",
   "metadata": {},
   "source": [
    "1. Genere un script que pregunte al usuario por montos de ventas entre un rango de años determinado\n",
    "para luego mostrar por pantalla una Serie con los datos de las ventas indexadas por año, tanto antes\n",
    "como después de aplicarles un descuento de 10% (ventas con y sin descuento).\n"
   ]
  },
  {
   "cell_type": "code",
   "execution_count": 106,
   "id": "cd769259",
   "metadata": {},
   "outputs": [
    {
     "name": "stdout",
     "output_type": "stream",
     "text": [
      "      año   valor  dcto  valor_dcto\n",
      "0  2020.0  1000.0   0.2       800.0\n",
      "1  2021.0  2000.0   0.2      1600.0\n",
      "2  2022.0  3000.0   0.2      2400.0\n",
      "3  2023.0  4000.0   0.2      3200.0\n",
      "Ingrese rango de años a visualizar\n",
      "Año comienzo:\n",
      "2020\n",
      "Año termino:\n",
      "2023\n",
      "      año   valor  dcto  valor_dcto\n",
      "0  2020.0  1000.0   0.2       800.0\n",
      "1  2021.0  2000.0   0.2      1600.0\n",
      "2  2022.0  3000.0   0.2      2400.0\n",
      "3  2023.0  4000.0   0.2      3200.0\n"
     ]
    }
   ],
   "source": [
    "\n",
    "\n",
    "ventas_por_año  = np.array([[2020, 1000, 0.2],[2021, 2000, 0.2],[2022, 3000, 0.2],[2023, 4000, 0.2]])\n",
    "data = pd.DataFrame(ventas_por_año, columns = ['año','valor','dcto'])\n",
    "data['valor_dcto'] = data['valor'] - data['valor']*data['dcto']\n",
    "\n",
    "print(data)\n",
    "start_date = 0\n",
    "end_date = 0\n",
    "\n",
    "print(\"Ingrese rango de años a visualizar\")\n",
    "print(\"Año comienzo:\")\n",
    "while(data['año'].min() > start_date or data['año'].max() < start_date):\n",
    "    start_date = int(input())\n",
    "    \n",
    "print(\"Año termino:\")\n",
    "while(data['año'].max() < end_date or data['año'].min() > end_date):\n",
    "    end_date = int(input())\n",
    "\n",
    "\n",
    "filtered_data=data.loc[ (data['año'] >= start_date) & (data['año'] <= end_date) ]\n",
    "\n",
    "print(filtered_data)"
   ]
  },
  {
   "cell_type": "markdown",
   "id": "26a23e92",
   "metadata": {},
   "source": [
    "2. Genere un script que reciba un Diccionario de datos(generado por ud.) con las notas de un certamen\n",
    "de 5 alumnos diferentes, luego devuelva una Serie con la nota mínima, la máxima y la desviación\n",
    "típica."
   ]
  },
  {
   "cell_type": "code",
   "execution_count": 107,
   "id": "6759cec6",
   "metadata": {},
   "outputs": [
    {
     "name": "stdout",
     "output_type": "stream",
     "text": [
      "Juan       2.3\n",
      "Jenifer    6.5\n",
      "David      6.1\n",
      "Pablo      3.5\n",
      "Armando    5.7\n",
      "dtype: float64\n",
      "\n",
      "Minimo               2.300000\n",
      "Maximo               6.500000\n",
      "desviación típica    1.825377\n",
      "dtype: float64\n"
     ]
    }
   ],
   "source": [
    "data = pd.Series([2.3,6.5,6.1,3.5,5.7], [\"Juan\",\"Jenifer\",\"David\",\"Pablo\",\"Armando\"])\n",
    "print(data)\n",
    "print()\n",
    "result = pd.Series([data.min(), data.max(), data.std()], ['Minimo', 'Maximo','desviación típica'])\n",
    "\n",
    "print(result)\n"
   ]
  },
  {
   "cell_type": "markdown",
   "id": "82abed49",
   "metadata": {},
   "source": [
    "3. Genere una función que reciba por parámetro un Diccionario de datos con las notas de 5 alumnos\n",
    "en un certamen y que devuelva una Serie con las notas de los alumnos aprobados ordenadas de\n",
    "mayor a menor."
   ]
  },
  {
   "cell_type": "code",
   "execution_count": 108,
   "id": "b148bf18",
   "metadata": {},
   "outputs": [
    {
     "name": "stdout",
     "output_type": "stream",
     "text": [
      "Alumnos aprobados odenados de mayor a menor\n",
      "Jenifer    6.5\n",
      "David      6.1\n",
      "Armando    5.7\n",
      "dtype: float64\n"
     ]
    }
   ],
   "source": [
    "data = data.loc[(data>4)]\n",
    "print(\"Alumnos aprobados odenados de mayor a menor\")\n",
    "print(data.sort_values(ascending=False))"
   ]
  },
  {
   "cell_type": "markdown",
   "id": "8af09490",
   "metadata": {},
   "source": [
    "4. Genere un script que muestre por pantalla un DataFrame con los datos de la siguiente tabla:"
   ]
  },
  {
   "cell_type": "code",
   "execution_count": 102,
   "id": "d44128b0",
   "metadata": {},
   "outputs": [
    {
     "name": "stdout",
     "output_type": "stream",
     "text": [
      "       Mes Ventas Gastos\n",
      "0    Enero  30500  22000\n",
      "1  Febrero  35600  23400\n",
      "2    Marzo  28300  18100\n",
      "3    Abril  33900  20700\n"
     ]
    }
   ],
   "source": [
    "datos = np.array([[\"Enero\", 30500, 22000],[\"Febrero\", 35600, 23400],[\"Marzo\", 28300, 18100],[\"Abril\", 33900, 20700]])\n",
    "data = pd.DataFrame(datos, columns = ['Mes','Ventas','Gastos'])\n",
    "print(data)"
   ]
  },
  {
   "cell_type": "markdown",
   "id": "813b35bd",
   "metadata": {},
   "source": [
    "5. Genere un script que reciba el DataFrame del ejercicio anterior y pregunte al usuario un intervalo de\n",
    "meses (desde mes x, hasta mes y) en los cuales se hará un balance total (ventas – gastos)."
   ]
  },
  {
   "cell_type": "code",
   "execution_count": null,
   "id": "995f8eb2",
   "metadata": {},
   "outputs": [],
   "source": []
  }
 ],
 "metadata": {
  "kernelspec": {
   "display_name": "Python 3 (ipykernel)",
   "language": "python",
   "name": "python3"
  },
  "language_info": {
   "codemirror_mode": {
    "name": "ipython",
    "version": 3
   },
   "file_extension": ".py",
   "mimetype": "text/x-python",
   "name": "python",
   "nbconvert_exporter": "python",
   "pygments_lexer": "ipython3",
   "version": "3.9.16"
  }
 },
 "nbformat": 4,
 "nbformat_minor": 5
}
