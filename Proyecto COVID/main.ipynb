{
 "cells": [
  {
   "cell_type": "code",
   "execution_count": 1,
   "id": "2fe009f7",
   "metadata": {},
   "outputs": [],
   "source": [
    "import pandas as pd \n",
    "import numpy as np \n",
    "import matplotlib.pyplot as plt"
   ]
  },
  {
   "cell_type": "code",
   "execution_count": 59,
   "id": "7cc49b5d",
   "metadata": {},
   "outputs": [
    {
     "data": {
      "text/plain": [
       "Index(['FIPS', 'Admin2', 'Province_State', 'Country_Region', 'Last_Update',\n",
       "       'Lat', 'Long_', 'Confirmed', 'Deaths', 'Recovered', 'Active',\n",
       "       'Combined_Key', 'Incident_Rate', 'Case_Fatality_Ratio'],\n",
       "      dtype='object')"
      ]
     },
     "execution_count": 59,
     "metadata": {},
     "output_type": "execute_result"
    }
   ],
   "source": [
    "url_data = 'https://raw.githubusercontent.com/CSSEGISandData/COVID-19/master/csse_covid_19_data/csse_covid_19_daily_reports/01-01-2021.csv'\n",
    "data_csv = pd.read_csv(url_data)\n",
    "\n",
    "\n",
    "\n",
    "\n",
    "data_csv.columns"
   ]
  },
  {
   "cell_type": "code",
   "execution_count": null,
   "id": "e9bb6f34",
   "metadata": {},
   "outputs": [],
   "source": [
    "day = str(input())\n",
    "month = str(input())\n",
    "year = str(input())\n",
    "date = day+'-'+month+'-'+ year\n",
    "url_data = 'https://raw.githubusercontent.com/CSSEGISandData/COVID-19/master/csse_covid_19_data/csse_covid_19_daily_reports/'+date+'.csv'\n",
    "data_csv = pd.read_csv(url_data)\n",
    "data_csv.head()"
   ]
  },
  {
   "cell_type": "code",
   "execution_count": null,
   "id": "c8b4dd16",
   "metadata": {},
   "outputs": [],
   "source": [
    "# url_data = 'https://raw.githubusercontent.com/CSSEGISandData/COVID-19/master/csse_covid_19_data/csse_covid_19_daily_reports/01-01-2021.csv'\n",
    "# data_csv1 = pd.read_csv(url_data)\n",
    "\n",
    "# url_data = 'https://raw.githubusercontent.com/CSSEGISandData/COVID-19/master/csse_covid_19_data/csse_covid_19_daily_reports/02-02-2021.csv'\n",
    "# data_csv2 = pd.read_csv(url_data)\n",
    "\n",
    "# data = pd.concat([data_csv1, data_csv2], join = \"inner\")\n",
    "# data.shape\n",
    "\n",
    "data = pd.DataFrame(columns=['FIPS', 'Admin2', 'Province_State', 'Country_Region', 'Last_Update',\n",
    "       'Lat', 'Long_', 'Confirmed', 'Deaths', 'Recovered', 'Active',\n",
    "       'Combined_Key', 'Incident_Rate', 'Case_Fatality_Ratio'])\n",
    "\n",
    "for i in range(1,3): \n",
    "    url_data = 'https://raw.githubusercontent.com/CSSEGISandData/COVID-19/master/csse_covid_19_data/csse_covid_19_daily_reports/0'+str(i)+'-01-2021.csv'\n",
    "    data_csv = pd.read_csv(url_data)\n",
    "    data= pd.concat([data, data_csv], join = \"inner\")\n",
    "    print(url_data)\n",
    "data\n"
   ]
  },
  {
   "cell_type": "code",
   "execution_count": null,
   "id": "0aca7073",
   "metadata": {},
   "outputs": [],
   "source": []
  },
  {
   "cell_type": "code",
   "execution_count": null,
   "id": "a6adae61",
   "metadata": {},
   "outputs": [],
   "source": []
  }
 ],
 "metadata": {
  "kernelspec": {
   "display_name": "Python 3 (ipykernel)",
   "language": "python",
   "name": "python3"
  },
  "language_info": {
   "codemirror_mode": {
    "name": "ipython",
    "version": 3
   },
   "file_extension": ".py",
   "mimetype": "text/x-python",
   "name": "python",
   "nbconvert_exporter": "python",
   "pygments_lexer": "ipython3",
   "version": "3.9.16"
  }
 },
 "nbformat": 4,
 "nbformat_minor": 5
}
