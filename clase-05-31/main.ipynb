{
 "cells": [
  {
   "cell_type": "code",
   "execution_count": 81,
   "id": "aad36d78",
   "metadata": {},
   "outputs": [
    {
     "data": {
      "text/html": [
       "<div>\n",
       "<style scoped>\n",
       "    .dataframe tbody tr th:only-of-type {\n",
       "        vertical-align: middle;\n",
       "    }\n",
       "\n",
       "    .dataframe tbody tr th {\n",
       "        vertical-align: top;\n",
       "    }\n",
       "\n",
       "    .dataframe thead th {\n",
       "        text-align: right;\n",
       "    }\n",
       "</style>\n",
       "<table border=\"1\" class=\"dataframe\">\n",
       "  <thead>\n",
       "    <tr style=\"text-align: right;\">\n",
       "      <th></th>\n",
       "      <th>Año</th>\n",
       "      <th>Fecha_def</th>\n",
       "      <th>Sexo</th>\n",
       "      <th>Edad</th>\n",
       "      <th>Edad_num</th>\n",
       "      <th>Cod_com_res</th>\n",
       "      <th>Com_resi</th>\n",
       "      <th>Reg_resi</th>\n",
       "      <th>Causa_bas_def</th>\n",
       "      <th>CAPITULO_DIAG1</th>\n",
       "      <th>...</th>\n",
       "      <th>DIAG2</th>\n",
       "      <th>CAP_DIAG2</th>\n",
       "      <th>GLOSA_CAPITULO_DIAG2</th>\n",
       "      <th>CODIGO_GRUPO_DIAG2</th>\n",
       "      <th>GLOSA_GRUPO_DIAG2</th>\n",
       "      <th>CODIGO_CATEGORIA_DIAG2</th>\n",
       "      <th>GLOSA_CATEGORIA_DIAG2</th>\n",
       "      <th>CODIGO_SUBCATEGORIA_DIAG2</th>\n",
       "      <th>GLOSA_SUBCATEGORIA_DIAG2</th>\n",
       "      <th>lugar_def</th>\n",
       "    </tr>\n",
       "  </thead>\n",
       "  <tbody>\n",
       "    <tr>\n",
       "      <th>0</th>\n",
       "      <td>2016</td>\n",
       "      <td>2016-12-08</td>\n",
       "      <td>Mujer</td>\n",
       "      <td>1</td>\n",
       "      <td>93</td>\n",
       "      <td>8102</td>\n",
       "      <td>Coronel</td>\n",
       "      <td>Del Bíobío</td>\n",
       "      <td>C186</td>\n",
       "      <td>C00-D48</td>\n",
       "      <td>...</td>\n",
       "      <td>NaN</td>\n",
       "      <td>NaN</td>\n",
       "      <td>NaN</td>\n",
       "      <td>NaN</td>\n",
       "      <td>NaN</td>\n",
       "      <td>NaN</td>\n",
       "      <td>NaN</td>\n",
       "      <td>NaN</td>\n",
       "      <td>NaN</td>\n",
       "      <td>Casa habitación</td>\n",
       "    </tr>\n",
       "    <tr>\n",
       "      <th>1</th>\n",
       "      <td>2019</td>\n",
       "      <td>2019-02-13</td>\n",
       "      <td>Mujer</td>\n",
       "      <td>1</td>\n",
       "      <td>97</td>\n",
       "      <td>3101</td>\n",
       "      <td>Copiapó</td>\n",
       "      <td>De Atacama</td>\n",
       "      <td>R688</td>\n",
       "      <td>R00-R99</td>\n",
       "      <td>...</td>\n",
       "      <td>NaN</td>\n",
       "      <td>NaN</td>\n",
       "      <td>NaN</td>\n",
       "      <td>NaN</td>\n",
       "      <td>NaN</td>\n",
       "      <td>NaN</td>\n",
       "      <td>NaN</td>\n",
       "      <td>NaN</td>\n",
       "      <td>NaN</td>\n",
       "      <td>Casa habitación</td>\n",
       "    </tr>\n",
       "    <tr>\n",
       "      <th>2</th>\n",
       "      <td>2018</td>\n",
       "      <td>2018-10-18</td>\n",
       "      <td>Hombre</td>\n",
       "      <td>1</td>\n",
       "      <td>81</td>\n",
       "      <td>13131</td>\n",
       "      <td>San Ramón</td>\n",
       "      <td>Metropolitana de Santiago</td>\n",
       "      <td>I694</td>\n",
       "      <td>I00-I99</td>\n",
       "      <td>...</td>\n",
       "      <td>NaN</td>\n",
       "      <td>NaN</td>\n",
       "      <td>NaN</td>\n",
       "      <td>NaN</td>\n",
       "      <td>NaN</td>\n",
       "      <td>NaN</td>\n",
       "      <td>NaN</td>\n",
       "      <td>NaN</td>\n",
       "      <td>NaN</td>\n",
       "      <td>Hospital o Clínica</td>\n",
       "    </tr>\n",
       "    <tr>\n",
       "      <th>3</th>\n",
       "      <td>2016</td>\n",
       "      <td>2016-05-19</td>\n",
       "      <td>Mujer</td>\n",
       "      <td>1</td>\n",
       "      <td>67</td>\n",
       "      <td>2101</td>\n",
       "      <td>Antofagasta</td>\n",
       "      <td>De Antofagasta</td>\n",
       "      <td>N189</td>\n",
       "      <td>N00-N99</td>\n",
       "      <td>...</td>\n",
       "      <td>NaN</td>\n",
       "      <td>NaN</td>\n",
       "      <td>NaN</td>\n",
       "      <td>NaN</td>\n",
       "      <td>NaN</td>\n",
       "      <td>NaN</td>\n",
       "      <td>NaN</td>\n",
       "      <td>NaN</td>\n",
       "      <td>NaN</td>\n",
       "      <td>Hospital o Clínica</td>\n",
       "    </tr>\n",
       "    <tr>\n",
       "      <th>4</th>\n",
       "      <td>2021</td>\n",
       "      <td>2021-12-12</td>\n",
       "      <td>Hombre</td>\n",
       "      <td>1</td>\n",
       "      <td>81</td>\n",
       "      <td>7101</td>\n",
       "      <td>Talca</td>\n",
       "      <td>Del Maule</td>\n",
       "      <td>G309</td>\n",
       "      <td>G00-G99</td>\n",
       "      <td>...</td>\n",
       "      <td>NaN</td>\n",
       "      <td>NaN</td>\n",
       "      <td>NaN</td>\n",
       "      <td>NaN</td>\n",
       "      <td>NaN</td>\n",
       "      <td>NaN</td>\n",
       "      <td>NaN</td>\n",
       "      <td>NaN</td>\n",
       "      <td>NaN</td>\n",
       "      <td>Hospital o Clínica</td>\n",
       "    </tr>\n",
       "  </tbody>\n",
       "</table>\n",
       "<p>5 rows × 27 columns</p>\n",
       "</div>"
      ],
      "text/plain": [
       "    Año   Fecha_def    Sexo  Edad  Edad_num  Cod_com_res     Com_resi  \\\n",
       "0  2016  2016-12-08   Mujer     1        93         8102      Coronel   \n",
       "1  2019  2019-02-13   Mujer     1        97         3101      Copiapó   \n",
       "2  2018  2018-10-18  Hombre     1        81        13131    San Ramón   \n",
       "3  2016  2016-05-19   Mujer     1        67         2101  Antofagasta   \n",
       "4  2021  2021-12-12  Hombre     1        81         7101        Talca   \n",
       "\n",
       "                    Reg_resi Causa_bas_def CAPITULO_DIAG1  ... DIAG2  \\\n",
       "0                 Del Bíobío          C186        C00-D48  ...   NaN   \n",
       "1                 De Atacama          R688        R00-R99  ...   NaN   \n",
       "2  Metropolitana de Santiago          I694        I00-I99  ...   NaN   \n",
       "3             De Antofagasta          N189        N00-N99  ...   NaN   \n",
       "4                  Del Maule          G309        G00-G99  ...   NaN   \n",
       "\n",
       "  CAP_DIAG2 GLOSA_CAPITULO_DIAG2 CODIGO_GRUPO_DIAG2 GLOSA_GRUPO_DIAG2  \\\n",
       "0       NaN                  NaN                NaN               NaN   \n",
       "1       NaN                  NaN                NaN               NaN   \n",
       "2       NaN                  NaN                NaN               NaN   \n",
       "3       NaN                  NaN                NaN               NaN   \n",
       "4       NaN                  NaN                NaN               NaN   \n",
       "\n",
       "  CODIGO_CATEGORIA_DIAG2 GLOSA_CATEGORIA_DIAG2 CODIGO_SUBCATEGORIA_DIAG2  \\\n",
       "0                    NaN                   NaN                       NaN   \n",
       "1                    NaN                   NaN                       NaN   \n",
       "2                    NaN                   NaN                       NaN   \n",
       "3                    NaN                   NaN                       NaN   \n",
       "4                    NaN                   NaN                       NaN   \n",
       "\n",
       "  GLOSA_SUBCATEGORIA_DIAG2           lugar_def  \n",
       "0                      NaN     Casa habitación  \n",
       "1                      NaN     Casa habitación  \n",
       "2                      NaN  Hospital o Clínica  \n",
       "3                      NaN  Hospital o Clínica  \n",
       "4                      NaN  Hospital o Clínica  \n",
       "\n",
       "[5 rows x 27 columns]"
      ]
     },
     "execution_count": 81,
     "metadata": {},
     "output_type": "execute_result"
    }
   ],
   "source": [
    "import pandas as pd \n",
    "import numpy as np \n",
    "\n",
    "defunciones = pd.read_csv(\n",
    "    \"data/defunciones_2016-2021.csv\" \n",
    ")\n",
    "\n",
    "defunciones.head(5)"
   ]
  },
  {
   "cell_type": "markdown",
   "id": "c24cde6b",
   "metadata": {},
   "source": [
    "### Mostrar por pantalla la edad media de las mujeres que fallecieron por causa I219."
   ]
  },
  {
   "cell_type": "code",
   "execution_count": 32,
   "id": "68f370b0",
   "metadata": {},
   "outputs": [
    {
     "data": {
      "text/plain": [
       "Causa_bas_def\n",
       "I219    78.004598\n",
       "Name: Mujer, dtype: float64"
      ]
     },
     "execution_count": 32,
     "metadata": {},
     "output_type": "execute_result"
    }
   ],
   "source": [
    "data = defunciones.loc[defunciones.loc[:, 'Causa_bas_def'] == 'I219']\n",
    "grouped= data.groupby(['Causa_bas_def','Sexo'])['Edad_num'].mean().unstack()['Mujer']\n",
    "grouped"
   ]
  },
  {
   "cell_type": "markdown",
   "id": "bfdbdf93",
   "metadata": {},
   "source": [
    "### Mostrar por pantalla la cantidad de personas que fallecieron por la causa I219 en la región De Arica y Parinacota.\n"
   ]
  },
  {
   "cell_type": "code",
   "execution_count": 45,
   "id": "533d427f",
   "metadata": {},
   "outputs": [
    {
     "data": {
      "text/plain": [
       "Causa_bas_def  Reg_resi             \n",
       "I219           De Arica y Parinacota    29\n",
       "Name: Reg_resi, dtype: int64"
      ]
     },
     "execution_count": 45,
     "metadata": {},
     "output_type": "execute_result"
    }
   ],
   "source": [
    "data = defunciones.loc[(defunciones['Causa_bas_def'] == 'I219') & (defunciones['Reg_resi'] == 'De Arica y Parinacota')]\n",
    "grouped= data.groupby(['Causa_bas_def','Reg_resi'])['Reg_resi'].count()\n",
    "grouped"
   ]
  },
  {
   "cell_type": "code",
   "execution_count": 37,
   "id": "be22f9b4",
   "metadata": {},
   "outputs": [
    {
     "data": {
      "text/plain": [
       "Index(['Año', 'Fecha_def', 'Sexo', 'Edad', 'Edad_num', 'Cod_com_res',\n",
       "       'Com_resi', 'Reg_resi', 'Causa_bas_def', 'CAPITULO_DIAG1',\n",
       "       'GLOSA_CAPITULO_DIAG1', 'CODIGO_GRUPO_DIAG1', 'GLOSA_GRUPO_DIAG1',\n",
       "       'CODIGO_CATEGORIA_DIAG1', 'GLOSA_CATEGORIA_DIAG1',\n",
       "       'CODIGO_SUBCATEGORIA_DIAG1', 'GLOSA_SUBCATEGORIA_DIAG1', 'DIAG2',\n",
       "       'CAP_DIAG2', 'GLOSA_CAPITULO_DIAG2', 'CODIGO_GRUPO_DIAG2',\n",
       "       'GLOSA_GRUPO_DIAG2', 'CODIGO_CATEGORIA_DIAG2', 'GLOSA_CATEGORIA_DIAG2',\n",
       "       'CODIGO_SUBCATEGORIA_DIAG2', 'GLOSA_SUBCATEGORIA_DIAG2', 'lugar_def'],\n",
       "      dtype='object')"
      ]
     },
     "execution_count": 37,
     "metadata": {},
     "output_type": "execute_result"
    }
   ],
   "source": [
    "defunciones.columns"
   ]
  },
  {
   "cell_type": "markdown",
   "id": "4b52c30b",
   "metadata": {},
   "source": [
    "### ¿Cuáles son las regiones con mayor número de defunciones de mujeres por causa I219? \n"
   ]
  },
  {
   "cell_type": "code",
   "execution_count": 80,
   "id": "c1c2fd79",
   "metadata": {},
   "outputs": [
    {
     "name": "stdout",
     "output_type": "stream",
     "text": [
      "<class 'pandas.core.series.Series'>\n",
      "Index: 16 entries, Metropolitana de Santiago to De Aisén del Gral. C. Ibáñez del Campo\n",
      "Series name: Reg_resi\n",
      "Non-Null Count  Dtype\n",
      "--------------  -----\n",
      "16 non-null     int64\n",
      "dtypes: int64(1)\n",
      "memory usage: 256.0+ bytes\n"
     ]
    }
   ],
   "source": [
    "data = defunciones.loc[(defunciones['Causa_bas_def'] == 'I219') & (defunciones['Sexo'] == 'Mujer')]\n",
    "data= data.groupby(['Reg_resi'])['Reg_resi'].count().sort_values(ascending=False)\n",
    "\n",
    "data.info()"
   ]
  },
  {
   "cell_type": "code",
   "execution_count": null,
   "id": "2cb9e02f",
   "metadata": {},
   "outputs": [],
   "source": [
    "\n"
   ]
  },
  {
   "cell_type": "code",
   "execution_count": null,
   "id": "4592c5e5",
   "metadata": {},
   "outputs": [],
   "source": []
  },
  {
   "cell_type": "code",
   "execution_count": null,
   "id": "3f2d5ec5",
   "metadata": {},
   "outputs": [],
   "source": []
  }
 ],
 "metadata": {
  "kernelspec": {
   "display_name": "Python 3 (ipykernel)",
   "language": "python",
   "name": "python3"
  },
  "language_info": {
   "codemirror_mode": {
    "name": "ipython",
    "version": 3
   },
   "file_extension": ".py",
   "mimetype": "text/x-python",
   "name": "python",
   "nbconvert_exporter": "python",
   "pygments_lexer": "ipython3",
   "version": "3.9.16"
  }
 },
 "nbformat": 4,
 "nbformat_minor": 5
}
