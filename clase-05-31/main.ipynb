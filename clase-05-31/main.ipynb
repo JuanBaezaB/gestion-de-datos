{
 "cells": [
  {
   "cell_type": "code",
   "execution_count": 15,
   "id": "aad36d78",
   "metadata": {},
   "outputs": [
    {
     "name": "stdout",
     "output_type": "stream",
     "text": [
      "<class 'pandas.core.frame.DataFrame'>\n",
      "RangeIndex: 275567 entries, 0 to 275566\n",
      "Data columns (total 27 columns):\n",
      " #   Column                     Non-Null Count   Dtype \n",
      "---  ------                     --------------   ----- \n",
      " 0   Año                        275567 non-null  int64 \n",
      " 1   Fecha_def                  275567 non-null  object\n",
      " 2   Sexo                       275567 non-null  object\n",
      " 3   Edad                       275567 non-null  int64 \n",
      " 4   Edad_num                   275567 non-null  int64 \n",
      " 5   Cod_com_res                275567 non-null  int64 \n",
      " 6   Com_resi                   275567 non-null  object\n",
      " 7   Reg_resi                   275567 non-null  object\n",
      " 8   Causa_bas_def              275567 non-null  object\n",
      " 9   CAPITULO_DIAG1             275567 non-null  object\n",
      " 10  GLOSA_CAPITULO_DIAG1       275567 non-null  object\n",
      " 11  CODIGO_GRUPO_DIAG1         275567 non-null  object\n",
      " 12  GLOSA_GRUPO_DIAG1          275567 non-null  object\n",
      " 13  CODIGO_CATEGORIA_DIAG1     275567 non-null  object\n",
      " 14  GLOSA_CATEGORIA_DIAG1      275567 non-null  object\n",
      " 15  CODIGO_SUBCATEGORIA_DIAG1  275567 non-null  object\n",
      " 16  GLOSA_SUBCATEGORIA_DIAG1   275567 non-null  object\n",
      " 17  DIAG2                      75805 non-null   object\n",
      " 18  CAP_DIAG2                  18604 non-null   object\n",
      " 19  GLOSA_CAPITULO_DIAG2       18604 non-null   object\n",
      " 20  CODIGO_GRUPO_DIAG2         18604 non-null   object\n",
      " 21  GLOSA_GRUPO_DIAG2          18604 non-null   object\n",
      " 22  CODIGO_CATEGORIA_DIAG2     18604 non-null   object\n",
      " 23  GLOSA_CATEGORIA_DIAG2      18604 non-null   object\n",
      " 24  CODIGO_SUBCATEGORIA_DIAG2  18604 non-null   object\n",
      " 25  GLOSA_SUBCATEGORIA_DIAG2   18604 non-null   object\n",
      " 26  lugar_def                  275567 non-null  object\n",
      "dtypes: int64(4), object(23)\n",
      "memory usage: 56.8+ MB\n"
     ]
    }
   ],
   "source": [
    "import pandas as pd \n",
    "import numpy as np \n",
    "\n",
    "\n",
    "\n",
    "defunciones = pd.read_csv(\n",
    "    \"data/defunciones_2016-2021.csv\" \n",
    ")\n",
    "\n",
    "defunciones.info()"
   ]
  },
  {
   "cell_type": "markdown",
   "id": "c24cde6b",
   "metadata": {},
   "source": [
    "### Mostrar por pantalla la edad media de las mujeres que fallecieron por causa I219."
   ]
  },
  {
   "cell_type": "code",
   "execution_count": 16,
   "id": "68f370b0",
   "metadata": {},
   "outputs": [
    {
     "data": {
      "text/plain": [
       "Causa_bas_def\n",
       "I219    78.156592\n",
       "Name: Mujer, dtype: float64"
      ]
     },
     "execution_count": 16,
     "metadata": {},
     "output_type": "execute_result"
    }
   ],
   "source": [
    "data = defunciones.loc[defunciones.loc[:, 'Causa_bas_def'] == 'I219']\n",
    "grouped= data.groupby(['Causa_bas_def','Sexo'])['Edad_num'].mean().unstack()['Mujer']\n",
    "grouped"
   ]
  },
  {
   "cell_type": "markdown",
   "id": "bfdbdf93",
   "metadata": {},
   "source": [
    "### Mostrar por pantalla la cantidad de personas que fallecieron por la causa I219 en la región De Arica y Parinacota.\n"
   ]
  },
  {
   "cell_type": "code",
   "execution_count": 17,
   "id": "533d427f",
   "metadata": {},
   "outputs": [
    {
     "data": {
      "text/plain": [
       "Causa_bas_def  Reg_resi             \n",
       "I219           De Arica y Parinacota    128\n",
       "Name: Reg_resi, dtype: int64"
      ]
     },
     "execution_count": 17,
     "metadata": {},
     "output_type": "execute_result"
    }
   ],
   "source": [
    "data = defunciones.loc[defunciones.loc[:, 'Causa_bas_def'] == 'I219']\n",
    "data = data.loc[data.loc[:, 'Reg_resi'] == 'De Arica y Parinacota']\n",
    "grouped= data.groupby(['Causa_bas_def','Reg_resi'])['Reg_resi'].count()\n",
    "grouped"
   ]
  },
  {
   "cell_type": "code",
   "execution_count": 18,
   "id": "be22f9b4",
   "metadata": {},
   "outputs": [],
   "source": [
    "\n",
    "muestra = defunciones.sample(frac=0.3);\n",
    "muestra.to_csv('archivo.csv', index=False)"
   ]
  },
  {
   "cell_type": "code",
   "execution_count": 13,
   "id": "c494cd22",
   "metadata": {},
   "outputs": [],
   "source": [
    "\n"
   ]
  },
  {
   "cell_type": "code",
   "execution_count": null,
   "id": "106406ad",
   "metadata": {},
   "outputs": [],
   "source": []
  }
 ],
 "metadata": {
  "kernelspec": {
   "display_name": "Python 3 (ipykernel)",
   "language": "python",
   "name": "python3"
  },
  "language_info": {
   "codemirror_mode": {
    "name": "ipython",
    "version": 3
   },
   "file_extension": ".py",
   "mimetype": "text/x-python",
   "name": "python",
   "nbconvert_exporter": "python",
   "pygments_lexer": "ipython3",
   "version": "3.9.16"
  }
 },
 "nbformat": 4,
 "nbformat_minor": 5
}
